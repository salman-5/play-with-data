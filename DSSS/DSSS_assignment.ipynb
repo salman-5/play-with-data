{
  "nbformat": 4,
  "nbformat_minor": 0,
  "metadata": {
    "colab": {
      "provenance": []
    },
    "kernelspec": {
      "name": "python3",
      "display_name": "Python 3"
    },
    "language_info": {
      "name": "python"
    }
  },
  "cells": [
    {
      "cell_type": "code",
      "execution_count": null,
      "metadata": {
        "colab": {
          "base_uri": "https://localhost:8080/"
        },
        "id": "YYsIxLjCrP-9",
        "outputId": "fbb43d4d-bb6d-46d7-d460-5cc9cbef38d3"
      },
      "outputs": [
        {
          "output_type": "stream",
          "name": "stdout",
          "text": [
            "SINGLE THREAD Results:\n",
            "Time taken: 61.48158597946167 seconds\n",
            "Value of pi: [3.1415935153733052]\n",
            "Value of pi: [3.1415927247955033]\n",
            "Value of pi: [3.1415927021077117]\n",
            "Value of pi: [3.141592635888531]\n",
            "Value of pi: [3.1415924919219385]\n",
            "Value of pi: [3.141592645761164]\n",
            "MULTITHREADING Results:\n",
            "Time taken: 58.48017120361328 seconds\n",
            "Value of pi: 3.1415935153733052\n",
            "Value of pi: 3.1415927247955033\n",
            "Value of pi: 3.1415927021077117\n",
            "Value of pi: 3.141592635888531\n",
            "Value of pi: 3.1415924919219385\n",
            "Value of pi: 3.141592645761164\n",
            "MULTIPROCESSING Results:\n",
            "Time taken: 65.76258993148804 seconds\n",
            "Value of pi: 3.1415935153733052\n",
            "Value of pi: 3.1415924919219385\n",
            "Value of pi: 3.1415927247955033\n",
            "Value of pi: 3.1415927021077117\n",
            "Value of pi: 3.141592635888531\n",
            "Value of pi: 3.141592645761164\n",
            "MULTIPROCESSING Results:\n",
            "Time taken: 64.13297319412231 seconds\n",
            "Value of pi: 3.1415935153733052\n",
            "Value of pi: 3.1415927247955033\n",
            "Value of pi: 3.1415927021077117\n",
            "Value of pi: 3.141592635888531\n",
            "Value of pi: 3.1415924919219385\n",
            "Value of pi: 3.141592645761164\n"
          ]
        }
      ],
      "source": [
        "from multiprocessing import Process, Queue\n",
        "import threading\n",
        "import time\n",
        "\n",
        "def approximate_pi(n, results=None, idx=None):\n",
        "    pi_2 = 1\n",
        "    nom, den = 2.0, 1.0\n",
        "    for i in range(n):\n",
        "        pi_2 *= nom / den\n",
        "        if i % 2:\n",
        "            nom += 2\n",
        "        else:\n",
        "            den += 2\n",
        "    if results is not None and idx is not None:\n",
        "        results[idx] = 2*pi_2\n",
        "    elif results is not None:\n",
        "        results.put(2*pi_2)\n",
        "    else:\n",
        "        return 2*pi_2\n",
        "\n",
        "if __name__ == \"__main__\":\n",
        "    nums = [1_822_725, 22_059_421, 32_374_695,\n",
        "            88_754_320, 97_162_66, 200_745_654]\n",
        "    ###############\n",
        "    # Single Thread\n",
        "    ###############\n",
        "    start = time.time()\n",
        "\n",
        "    results = []\n",
        "    for n in nums:\n",
        "        results.append([approximate_pi(n)])\n",
        "\n",
        "    end = time.time()\n",
        "\n",
        "    print(\"SINGLE THREAD Results:\")\n",
        "    print(f\"Time taken: {end - start} seconds\")\n",
        "    for value in results:\n",
        "        print(f\"Value of pi: {value}\")\n",
        "\n",
        "    ################\n",
        "    # Multithreading\n",
        "    ################\n",
        "    start = time.time()\n",
        "\n",
        "    results = [None] * len(nums)\n",
        "\n",
        "    jobs = []\n",
        "    for idx, n in enumerate(nums):\n",
        "        thread = threading.Thread(target=approximate_pi, args=(n, results, idx))\n",
        "        jobs.append(thread)\n",
        "        thread.start()\n",
        "\n",
        "    for thread in jobs:\n",
        "        thread.join()\n",
        "\n",
        "    end = time.time()\n",
        "\n",
        "    print(\"MULTITHREADING Results:\")\n",
        "    print(f\"Time taken: {end - start} seconds\")\n",
        "    for value in results:\n",
        "        print(f\"Value of pi: {value}\")\n",
        "\n",
        "\n",
        "    #################\n",
        "    # Multiprocessing\n",
        "    #################\n",
        "    start = time.time()\n",
        "\n",
        "    queue = Queue()\n",
        "    jobs = []\n",
        "    for n in nums:\n",
        "        proc = Process(target=approximate_pi, args=(n, queue))\n",
        "        jobs.append(proc)\n",
        "        proc.start()\n",
        "\n",
        "    for proc in jobs:\n",
        "        proc.join()\n",
        "\n",
        "    results = []\n",
        "    while not queue.empty():\n",
        "        results.append(queue.get())\n",
        "\n",
        "    end = time.time()\n",
        "\n",
        "    print(\"MULTIPROCESSING Results:\")\n",
        "    print(f\"Time taken: {end - start} seconds\")\n",
        "    for value in results:\n",
        "        print(f\"Value of pi: {value}\")\n",
        "\n",
        "    from multiprocessing import Pool\n",
        "    start = time.time()\n",
        "    with Pool() as pool:\n",
        "        results = pool.map(approximate_pi, nums)\n",
        "    end = time.time()\n",
        "\n",
        "    print(\"MULTIPROCESSING Results:\")\n",
        "    print(f\"Time taken: {end - start} seconds\")\n",
        "    for value in results:\n",
        "        print(f\"Value of pi: {value}\")"
      ]
    },
    {
      "cell_type": "code",
      "source": [],
      "metadata": {
        "id": "6qjilzhNvka3"
      },
      "execution_count": null,
      "outputs": []
    },
    {
      "cell_type": "code",
      "source": [],
      "metadata": {
        "id": "eEHNH86dvkm4"
      },
      "execution_count": null,
      "outputs": []
    },
    {
      "cell_type": "code",
      "source": [
        "import os\n",
        "os.environ['NUMBA_NUM_THREADS'] = '10'\n",
        "import numba as nb\n",
        "import numpy as np"
      ],
      "metadata": {
        "id": "-An2T8ZAr_ZG"
      },
      "execution_count": null,
      "outputs": []
    },
    {
      "cell_type": "code",
      "source": [
        "@nb.jit(nopython=True)\n",
        "def approximate_pi(n, results=None, idx=None):\n",
        "    pi_2 = 1\n",
        "    nom, den = 2.0, 1.0\n",
        "    for i in range(n):\n",
        "        pi_2 *= nom / den\n",
        "        if i % 2:\n",
        "            nom += 2\n",
        "        else:\n",
        "            den += 2\n",
        "    else:\n",
        "        return 2*pi_2\n",
        "\n",
        "if __name__ == \"__main__\":\n",
        "    nums = [1_822_725, 22_059_421, 32_374_695,\n",
        "            88_754_320, 97_162_66, 200_745_654]\n",
        "    ###############\n",
        "    # Single Thread\n",
        "    ###############\n",
        "    start = time.time()\n",
        "\n",
        "    results = []\n",
        "    for n in nums:\n",
        "        results.append([approximate_pi(n)])\n",
        "\n",
        "    end = time.time()\n",
        "\n",
        "    print(\"SINGLE THREAD Results:\")\n",
        "    print(f\"Time taken: {end - start} seconds\")\n",
        "    for value in results:\n",
        "        print(f\"Value of pi: {value}\")"
      ],
      "metadata": {
        "colab": {
          "base_uri": "https://localhost:8080/"
        },
        "id": "jI2by5vPsBJ8",
        "outputId": "52b5b186-eb1c-4332-8e47-dc39814e9499"
      },
      "execution_count": null,
      "outputs": [
        {
          "output_type": "stream",
          "name": "stdout",
          "text": [
            "SINGLE THREAD Results:\n",
            "Time taken: 0.820213794708252 seconds\n",
            "Value of pi: [3.1415935153733052]\n",
            "Value of pi: [3.1415927247955033]\n",
            "Value of pi: [3.1415927021077117]\n",
            "Value of pi: [3.141592635888531]\n",
            "Value of pi: [3.1415924919219385]\n",
            "Value of pi: [3.141592645761164]\n"
          ]
        }
      ]
    },
    {
      "cell_type": "code",
      "source": [
        "import matplotlib.pyplot as plt\n",
        "\n",
        "# specifying horizontal line type\n",
        "plt.axhline(y = np.pi, color = 'r', linestyle = '-', label=\"true value\")\n",
        "plt.scatter(nums,results,label=\"approximation\")\n",
        "plt.xlabel(\"Number of iterations\")\n",
        "plt.ylabel(\"Approximation\")\n",
        "plt.legend()\n",
        "\n",
        "# rendering the plot\n",
        "plt.show()"
      ],
      "metadata": {
        "colab": {
          "base_uri": "https://localhost:8080/",
          "height": 465
        },
        "id": "Q51zy-IQvmZp",
        "outputId": "3784ce46-8003-4d80-936e-7a25f6d1f9e6"
      },
      "execution_count": null,
      "outputs": [
        {
          "output_type": "display_data",
          "data": {
            "text/plain": [
              "<Figure size 640x480 with 1 Axes>"
            ],
            "image/png": "[encoded data removed]"
          },
          "metadata": {}
        }
      ]
    },
    {
      "cell_type": "code",
      "source": [],
      "metadata": {
        "id": "57STTlXn0J4l"
      },
      "execution_count": null,
      "outputs": []
    }
  ]
}